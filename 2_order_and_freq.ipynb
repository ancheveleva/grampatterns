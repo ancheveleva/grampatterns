{
 "cells": [
  {
   "cell_type": "code",
   "execution_count": 1,
   "metadata": {},
   "outputs": [],
   "source": [
    "import pandas as pd\n",
    "from tqdm import tqdm\n",
    "import csv"
   ]
  },
  {
   "cell_type": "code",
   "execution_count": 2,
   "metadata": {},
   "outputs": [],
   "source": [
    "# Сгенерируем колонки\n",
    "def generate_columns(n, name):\n",
    "    columns = [name+str(i) for i in range(1, n+1)]\n",
    "    return columns"
   ]
  },
  {
   "cell_type": "code",
   "execution_count": 3,
   "metadata": {},
   "outputs": [],
   "source": [
    "# Из общего файла n-грамм выкидываем инфу про хостов\n",
    "# Остаются только сами последовательности слов*\n",
    "# *не самих лексем, а их частей речи\n",
    "def without_host(n, my_columns, file_dir):\n",
    "    df_all = pd.read_csv(file_dir + f\"/all_count_{n}_grams.csv\", sep=\",\")\n",
    "    df_wth_host = df_all[my_columns + [\"total_entries\"]]\n",
    "    return df_wth_host"
   ]
  },
  {
   "cell_type": "code",
   "execution_count": 4,
   "metadata": {},
   "outputs": [],
   "source": [
    "# Группируем последовательности ЧР \n",
    "# Добавляем информацию про число вхождений каждого типа последовательности\n",
    "# и число различных видов подчинения внутри каждого типа\n",
    "# записываем в файл\n",
    "def order_entries_and_reltypes(n, my_columns, file_dir):\n",
    "    df_wth_host = without_host(n, my_columns, file_dir=file_dir)\n",
    "    df_grouped = df_wth_host.groupby(my_columns, as_index=False).agg({\"total_entries\": sum})\n",
    "    df_grouped[\"number_of_rel_types\"] = df_wth_host.groupby(my_columns, as_index=False)\\\n",
    "                                        .agg({\"total_entries\": \"count\"})[\"total_entries\"]\n",
    "    df_grouped = df_grouped.sort_values(by=[\"total_entries\", \"number_of_rel_types\"], ascending=[False, False])\n",
    "    df_grouped = df_grouped.rename(columns={'total_entries': 'total_entries_of_construction'})\n",
    "    df_grouped.to_csv(file_dir + f\"/all_order_entries_and_reltypes_{n}.csv\", index=None)"
   ]
  },
  {
   "cell_type": "code",
   "execution_count": 5,
   "metadata": {},
   "outputs": [],
   "source": [
    "for i in range(3,7):\n",
    "    order_entries_and_reltypes(i, generate_columns(i, \"POS\"), \"./outcome files/dev_train_test\")"
   ]
  },
  {
   "cell_type": "code",
   "execution_count": 6,
   "metadata": {},
   "outputs": [],
   "source": [
    "for i in range(3,7):\n",
    "    order_entries_and_reltypes(i, generate_columns(i, \"POS\"), \"./outcome files/dev_train\")"
   ]
  },
  {
   "cell_type": "markdown",
   "metadata": {},
   "source": [
    "## Доли типов подчинения внутри типов n-грамм (по одной связи)"
   ]
  },
  {
   "cell_type": "code",
   "execution_count": 36,
   "metadata": {},
   "outputs": [],
   "source": [
    "# Добавляем колонку с номерами конструкций\n",
    "# Соединяем два df по ключам-частям речи\n",
    "# Дробаем лишнее и переставляем покрасивее\n",
    "def df_all_for_ratio(n, file_dir):\n",
    "    df_to_stay = pd.read_csv(file_dir + f\"/all_order_entries_and_reltypes_{n}.csv\", sep=\",\")\n",
    "    df_to_stay[\"#construction\"] = df_to_stay.index\n",
    "    \n",
    "    df_all = pd.read_csv(file_dir + f\"/all_count_{n}_grams.csv\", sep=\",\")\n",
    "    df_all = pd.merge(df_all, df_to_stay, on=generate_columns(n, \"POS\"))\n",
    "\n",
    "    df_all = df_all.drop([\"number_of_rel_types\"], axis=1)\n",
    "    df_all = df_all[[\"#construction\"] + list(df_all.columns.values)[:-1]]\n",
    "    df_all = df_all.sort_values(generate_columns(n, \"POS\")).reset_index(drop=True)\n",
    "    \n",
    "    return df_all"
   ]
  },
  {
   "cell_type": "code",
   "execution_count": 37,
   "metadata": {},
   "outputs": [],
   "source": [
    "# Словарик для группировки по конструкциям\n",
    "def create_agg_dict(n):\n",
    "    agg_dict = {\"total_entries\": 'sum', \"total_entries_of_construction\": 'first', \n",
    "                \"#construction\": 'first'}\n",
    "    for col in generate_columns(n, \"POS\"):\n",
    "        agg_dict[col] = 'first' \n",
    "    return agg_dict"
   ]
  },
  {
   "cell_type": "code",
   "execution_count": 38,
   "metadata": {},
   "outputs": [],
   "source": [
    "# Заполнитель нулями (0 = на это не смотрим)\n",
    "def place_zero(i, n, constr_ratio):\n",
    "    for i_n in  range (1, n + 1):\n",
    "        if i_n != i:\n",
    "            constr_ratio[f\"#host{i_n}\"] = 0\n",
    "            constr_ratio[f\"POShost{i_n}\"] = 0"
   ]
  },
  {
   "cell_type": "code",
   "execution_count": 39,
   "metadata": {},
   "outputs": [],
   "source": [
    "# Вытаксиваем отношения для i-го слова в конструкции\n",
    "def ratio_from_construction(i, n, constr, agg_dict): \n",
    "    constr_ratio = constr.groupby([f\"#host{i}\", f\"POShost{i}\"], as_index=False).agg(agg_dict)\n",
    "\n",
    "    constr_ratio[\"ratio\"] = round(constr_ratio[\"total_entries\"] / \n",
    "                                  constr_ratio[\"total_entries_of_construction\"], 3)\n",
    "    constr_ratio = constr_ratio.sort_values(by=\"ratio\", ascending=False).reset_index(drop=True)\n",
    "    place_zero(i, n, constr_ratio)\n",
    "    constr_ratio = constr_ratio.drop([\"total_entries_of_construction\"], axis=1)\n",
    "    return constr_ratio"
   ]
  },
  {
   "cell_type": "code",
   "execution_count": 40,
   "metadata": {},
   "outputs": [],
   "source": [
    "# Создаем csv файл для дальнейшей записи по кусочкам\n",
    "def init_csv(n, file_dir):\n",
    "    with open(file_dir + f\"/all_with_ratios_{n}.csv\", 'w', newline='') as csvfile:\n",
    "        csvwriter = csv.writer(csvfile, delimiter=',')\n",
    "        csvwriter.writerow(right_col_order(n))"
   ]
  },
  {
   "cell_type": "code",
   "execution_count": 41,
   "metadata": {},
   "outputs": [],
   "source": [
    "# Правильный порядок для записи\n",
    "def right_col_order(n):\n",
    "    right_order = [\"#construction\"]\n",
    "    for i in range(n):\n",
    "        right_order.extend([generate_columns(n, \"POS\")[i], \n",
    "                            generate_columns(n, \"#host\")[i], \n",
    "                            generate_columns(n, \"POShost\")[i]])\n",
    "    right_order.extend([\"ratio\", \"total_entries\"])\n",
    "    return right_order"
   ]
  },
  {
   "cell_type": "code",
   "execution_count": 42,
   "metadata": {},
   "outputs": [],
   "source": [
    "# Записываем в csv кусочек конструкций\n",
    "def get_result(n, ratio_from_construction, file_dir):\n",
    "    result = ratio_from_construction[right_col_order(n)].reset_index(drop=True)\n",
    "    with open(file_dir + f\"/all_with_ratios_{n}.csv\", 'a') as csvadd:\n",
    "        result.to_csv(csvadd, header=False, index=None, line_terminator='\\n')"
   ]
  },
  {
   "cell_type": "code",
   "execution_count": 43,
   "metadata": {},
   "outputs": [],
   "source": [
    "# constrs_num -- список номеров конструкций\n",
    "# Общая функция (! очень долго выполняется, и чем больше n, тем дольше)\n",
    "def ratios_of_reltypes(n, file_dir):\n",
    "    init_csv(n, file_dir=file_dir)\n",
    "\n",
    "    df_all = df_all_for_ratio(n, file_dir=file_dir)\n",
    "    constrs_num = pd.unique(df_all[\"#construction\"]).tolist()\n",
    "    agg_dict = create_agg_dict(n)\n",
    "\n",
    "    for num in tqdm(constrs_num):\n",
    "        constr = df_all[df_all[\"#construction\"] == num].reset_index()\n",
    "        for i in range(1, n + 1):\n",
    "            get_result(n, ratio_from_construction(i, n, constr, agg_dict), file_dir=file_dir)"
   ]
  },
  {
   "cell_type": "code",
   "execution_count": 45,
   "metadata": {},
   "outputs": [
    {
     "name": "stderr",
     "output_type": "stream",
     "text": [
      "100%|██████████████████████████████████████████████████████████████████████████████| 2874/2874 [04:13<00:00, 11.34it/s]\n"
     ]
    }
   ],
   "source": [
    "ratios_of_reltypes(3, \"./outcome files/dev_train_test\")\n",
    "#ratios_of_reltypes(3, \"./outcome files/dev_train\")"
   ]
  },
  {
   "cell_type": "code",
   "execution_count": 16,
   "metadata": {},
   "outputs": [],
   "source": [
    "# ratios_of_reltypes(4, \"./outcome files/dev_train_test\")\n",
    "# ratios_of_reltypes(4, \"./outcome files/dev_train\")"
   ]
  },
  {
   "cell_type": "code",
   "execution_count": 17,
   "metadata": {},
   "outputs": [],
   "source": [
    "# ratios_of_reltypes(5, \"./outcome files/dev_train_test\")\n",
    "# ratios_of_reltypes(5, \"./outcome files/dev_train\")"
   ]
  },
  {
   "cell_type": "code",
   "execution_count": 18,
   "metadata": {},
   "outputs": [],
   "source": [
    "# ratios_of_reltypes(6, \"./outcome files/dev_train_test\")\n",
    "# ratios_of_reltypes(6, \"./outcome files/dev_train\")"
   ]
  },
  {
   "cell_type": "markdown",
   "metadata": {},
   "source": [
    "## Доли типов подчинения внутри типов n-грамм (все связи)"
   ]
  },
  {
   "cell_type": "code",
   "execution_count": 13,
   "metadata": {},
   "outputs": [],
   "source": [
    "def ratios_of_reltypes_all(n, file_dir):\n",
    "    df_all = df_all_for_ratio(n, file_dir=file_dir)\n",
    "    df_all[\"ratio\"] = round(df_all[\"total_entries\"] / df_all[\"total_entries_of_construction\"], 3)\n",
    "    df_all = df_all.sort_values(generate_columns(n, \"POS\")).reset_index(drop=True)\n",
    "    df_all.to_csv(file_dir + f\"/all_full_with_ratios_{n}.csv\", index=None)"
   ]
  },
  {
   "cell_type": "code",
   "execution_count": 14,
   "metadata": {},
   "outputs": [],
   "source": [
    "for i in range(3, 7):\n",
    "    ratios_of_reltypes_all(i, \"./outcome files/dev_train_test\")"
   ]
  },
  {
   "cell_type": "code",
   "execution_count": 15,
   "metadata": {},
   "outputs": [],
   "source": [
    "for i in range(3, 7):\n",
    "    ratios_of_reltypes_all(i, \"./outcome files/dev_train\")"
   ]
  },
  {
   "cell_type": "code",
   "execution_count": null,
   "metadata": {},
   "outputs": [],
   "source": []
  }
 ],
 "metadata": {
  "kernelspec": {
   "display_name": "Python 3",
   "language": "python",
   "name": "python3"
  },
  "language_info": {
   "codemirror_mode": {
    "name": "ipython",
    "version": 3
   },
   "file_extension": ".py",
   "mimetype": "text/x-python",
   "name": "python",
   "nbconvert_exporter": "python",
   "pygments_lexer": "ipython3",
   "version": "3.8.0"
  }
 },
 "nbformat": 4,
 "nbformat_minor": 4
}
