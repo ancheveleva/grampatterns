{
 "cells": [
  {
   "cell_type": "code",
   "execution_count": 159,
   "metadata": {},
   "outputs": [],
   "source": [
    "import pandas as pd"
   ]
  },
  {
   "cell_type": "markdown",
   "metadata": {},
   "source": [
    "# 1. Изначальное число конструкций"
   ]
  },
  {
   "cell_type": "markdown",
   "metadata": {},
   "source": [
    "## 1.1. На всей коллекции документов "
   ]
  },
  {
   "cell_type": "code",
   "execution_count": 160,
   "metadata": {},
   "outputs": [
    {
     "name": "stdout",
     "output_type": "stream",
     "text": [
      "3-граммы: 10831\n",
      "4-граммы: 75126\n",
      "5-граммы: 237452\n",
      "6-граммы: 461198\n",
      "Всего: 784607\n"
     ]
    }
   ],
   "source": [
    "nums = []\n",
    "for n in range(3, 7):\n",
    "    df = pd.read_csv(f\"./outcome files/dev_train_test/all_count_{n}_grams.csv\", sep=\",\", low_memory=False)\n",
    "    num = df.shape[0]\n",
    "    nums.append(num)\n",
    "    print(f\"{n}-граммы:\", num)\n",
    "\n",
    "print(\"Всего:\", sum(nums))"
   ]
  },
  {
   "cell_type": "markdown",
   "metadata": {},
   "source": [
    "## 1.2. Без test"
   ]
  },
  {
   "cell_type": "code",
   "execution_count": 161,
   "metadata": {},
   "outputs": [
    {
     "name": "stdout",
     "output_type": "stream",
     "text": [
      "3-граммы: 10557\n",
      "4-граммы: 71592\n",
      "5-граммы: 221790\n",
      "6-граммы: 423614\n",
      "Всего: 727553\n"
     ]
    }
   ],
   "source": [
    "nums = []\n",
    "for n in range(3, 7):\n",
    "    df = pd.read_csv(f\"./outcome files/dev_train/all_count_{n}_grams.csv\", sep=\",\", low_memory=False)\n",
    "    num = df.shape[0]\n",
    "    nums.append(num)\n",
    "    print(f\"{n}-граммы:\", num)\n",
    "\n",
    "print(\"Всего:\", sum(nums))"
   ]
  },
  {
   "cell_type": "markdown",
   "metadata": {},
   "source": [
    "# 2. Число шаблонов"
   ]
  },
  {
   "cell_type": "markdown",
   "metadata": {},
   "source": [
    "## 2.1. На всей коллекции документов "
   ]
  },
  {
   "cell_type": "code",
   "execution_count": 162,
   "metadata": {},
   "outputs": [
    {
     "name": "stdout",
     "output_type": "stream",
     "text": [
      "3-граммы: 2874\n",
      "4-граммы: 22114\n",
      "5-граммы: 96735\n",
      "6-граммы: 256716\n",
      "Всего: 378439\n"
     ]
    }
   ],
   "source": [
    "nums = []\n",
    "for n in range(3, 7):\n",
    "    df = pd.read_csv(f\"./outcome files/dev_train_test/all_order_entries_and_reltypes_{n}.csv\", sep=\",\", low_memory=False)\n",
    "    num = df.shape[0]\n",
    "    nums.append(num)\n",
    "    print(f\"{n}-граммы:\", num)\n",
    "\n",
    "print(\"Всего:\", sum(nums))"
   ]
  },
  {
   "cell_type": "markdown",
   "metadata": {},
   "source": [
    "## 2.2. Без test"
   ]
  },
  {
   "cell_type": "code",
   "execution_count": 163,
   "metadata": {},
   "outputs": [
    {
     "name": "stdout",
     "output_type": "stream",
     "text": [
      "3-граммы: 2844\n",
      "4-граммы: 21544\n",
      "5-граммы: 92321\n",
      "6-граммы: 240263\n",
      "Всего: 356972\n"
     ]
    }
   ],
   "source": [
    "nums = []\n",
    "for n in range(3, 7):\n",
    "    df = pd.read_csv(f\"./outcome files/dev_train/all_order_entries_and_reltypes_{n}.csv\", sep=\",\", low_memory=False)\n",
    "    num = df.shape[0]\n",
    "    nums.append(num)\n",
    "    print(f\"{n}-граммы:\", num)\n",
    "\n",
    "print(\"Всего:\", sum(nums))"
   ]
  },
  {
   "cell_type": "markdown",
   "metadata": {},
   "source": [
    "# 3. Итог (после обобщения)"
   ]
  },
  {
   "cell_type": "markdown",
   "metadata": {},
   "source": [
    "## 3.1. На всей коллекции документов "
   ]
  },
  {
   "cell_type": "code",
   "execution_count": 167,
   "metadata": {},
   "outputs": [
    {
     "name": "stdout",
     "output_type": "stream",
     "text": [
      "3-граммы:\n",
      "Итоговое число шаблонов: 422\n",
      "Среди них с вхождением > 50: 109 (25.83%)\n",
      "Среди них с вхождением > 5: 170 (40.28%)\n",
      "4-граммы:\n",
      "Итоговое число шаблонов: 7912\n",
      "Среди них с вхождением > 50: 359 (4.54%)\n",
      "Среди них с вхождением > 5: 1758 (22.22%)\n",
      "5-граммы:\n",
      "Итоговое число шаблонов: 51441\n",
      "Среди них с вхождением > 50: 448 (0.87%)\n",
      "Среди них с вхождением > 5: 6577 (12.79%)\n",
      "6-граммы:\n",
      "Итоговое число шаблонов: 140177\n",
      "Среди них с вхождением > 50: 194 (0.14%)\n",
      "Среди них с вхождением > 5: 9470 (6.76%)\n",
      "Всего шаблонов: 199952\n",
      "Среди них > 50: 1110 (0.56%)\n",
      "Среди них > 5: 17975 (8.99%)\n"
     ]
    }
   ],
   "source": [
    "fin = []\n",
    "lim_50 = []\n",
    "lim_5 = []\n",
    "for n in range(3, 7):\n",
    "    df = pd.read_csv(f\"./outcome files/dev_train_test/all_cool_{n}_grouped.csv\", sep=\",\", low_memory=False)\n",
    "    f = df.shape[0]\n",
    "    l = df[df[\"total_entries\"] > 50].shape[0]\n",
    "    l5 = df[df[\"total_entries\"] > 5].shape[0]\n",
    "    print(f\"{n}-граммы:\")\n",
    "    print(\"Итоговое число шаблонов:\", f)\n",
    "    print(\"Среди них с вхождением > 50:\", l, f\"({round(l * 100 / f, 2)}%)\")\n",
    "    print(\"Среди них с вхождением > 5:\", l5, f\"({round(l5 * 100 / f, 2)}%)\")\n",
    "    fin.append(f)\n",
    "    lim_50.append(l)\n",
    "    lim_5.append(l5)\n",
    "print(\"Всего шаблонов:\", sum(fin))\n",
    "print(\"Среди них > 50:\", sum(lim_50), f\"({round(sum(lim_50) * 100 / sum(fin), 2)}%)\")\n",
    "print(\"Среди них > 5:\", sum(lim_5), f\"({round(sum(lim_5) * 100 / sum(fin), 2)}%)\")"
   ]
  },
  {
   "cell_type": "markdown",
   "metadata": {},
   "source": [
    "## 3.2. Без test"
   ]
  },
  {
   "cell_type": "code",
   "execution_count": 168,
   "metadata": {},
   "outputs": [
    {
     "name": "stdout",
     "output_type": "stream",
     "text": [
      "3-граммы:\n",
      "Итоговое число шаблонов: 428\n",
      "Среди них с вхождением > 50: 111 (25.93%)\n",
      "Среди них с вхождением > 5: 176 (41.12%)\n",
      "4-граммы:\n",
      "Итоговое число шаблонов: 7802\n",
      "Среди них с вхождением > 50: 365 (4.68%)\n",
      "Среди них с вхождением > 5: 1714 (21.97%)\n",
      "5-граммы:\n",
      "Итоговое число шаблонов: 49336\n",
      "Среди них с вхождением > 50: 425 (0.86%)\n",
      "Среди них с вхождением > 5: 6122 (12.41%)\n",
      "6-граммы:\n",
      "Итоговое число шаблонов: 130541\n",
      "Среди них с вхождением > 50: 155 (0.12%)\n",
      "Среди них с вхождением > 5: 8429 (6.46%)\n",
      "Всего шаблонов: 188107\n",
      "Среди них > 50: 1056 (0.56%)\n",
      "Среди них > 5: 16441 (8.74%)\n"
     ]
    }
   ],
   "source": [
    "fin = []\n",
    "lim_50 = []\n",
    "lim_5 = []\n",
    "for n in range(3, 7):\n",
    "    df = pd.read_csv(f\"./outcome files/dev_train/all_cool_{n}_grouped.csv\", sep=\",\", low_memory=False)\n",
    "    f = df.shape[0]\n",
    "    l = df[df[\"total_entries\"] > 50].shape[0]\n",
    "    l5 = df[df[\"total_entries\"] > 5].shape[0]\n",
    "    print(f\"{n}-граммы:\")\n",
    "    print(\"Итоговое число шаблонов:\", f)\n",
    "    print(\"Среди них с вхождением > 50:\", l, f\"({round(l * 100 / f, 2)}%)\")\n",
    "    print(\"Среди них с вхождением > 5:\", l5, f\"({round(l5 * 100 / f, 2)}%)\")\n",
    "    fin.append(f)\n",
    "    lim_50.append(l)\n",
    "    lim_5.append(l5)\n",
    "print(\"Всего шаблонов:\", sum(fin))\n",
    "print(\"Среди них > 50:\", sum(lim_50), f\"({round(sum(lim_50) * 100 / sum(fin), 2)}%)\")\n",
    "print(\"Среди них > 5:\", sum(lim_5), f\"({round(sum(lim_5) * 100 / sum(fin), 2)}%)\")"
   ]
  },
  {
   "cell_type": "markdown",
   "metadata": {},
   "source": [
    "# 4. Топ-5 3 и 6 грамм"
   ]
  },
  {
   "cell_type": "markdown",
   "metadata": {},
   "source": [
    "## 4.1 Для всей коллекции"
   ]
  },
  {
   "cell_type": "code",
   "execution_count": 169,
   "metadata": {},
   "outputs": [],
   "source": [
    "df_3 = pd.read_csv(f\"./outcome files/dev_train_test/all_cool_3_grouped.csv\", sep=\",\", low_memory=False)"
   ]
  },
  {
   "cell_type": "code",
   "execution_count": 170,
   "metadata": {},
   "outputs": [
    {
     "data": {
      "text/html": [
       "<div>\n",
       "<style scoped>\n",
       "    .dataframe tbody tr th:only-of-type {\n",
       "        vertical-align: middle;\n",
       "    }\n",
       "\n",
       "    .dataframe tbody tr th {\n",
       "        vertical-align: top;\n",
       "    }\n",
       "\n",
       "    .dataframe thead th {\n",
       "        text-align: right;\n",
       "    }\n",
       "</style>\n",
       "<table border=\"1\" class=\"dataframe\">\n",
       "  <thead>\n",
       "    <tr style=\"text-align: right;\">\n",
       "      <th></th>\n",
       "      <th>POS1</th>\n",
       "      <th>#host1</th>\n",
       "      <th>POS2</th>\n",
       "      <th>#host2</th>\n",
       "      <th>POS3</th>\n",
       "      <th>#host3</th>\n",
       "      <th>total_entries</th>\n",
       "    </tr>\n",
       "  </thead>\n",
       "  <tbody>\n",
       "    <tr>\n",
       "      <th>42</th>\n",
       "      <td>ADP</td>\n",
       "      <td>0</td>\n",
       "      <td>ADJ</td>\n",
       "      <td>3</td>\n",
       "      <td>NOUN</td>\n",
       "      <td>0</td>\n",
       "      <td>15168</td>\n",
       "    </tr>\n",
       "    <tr>\n",
       "      <th>225</th>\n",
       "      <td>NOUN</td>\n",
       "      <td>0</td>\n",
       "      <td>ADJ</td>\n",
       "      <td>3</td>\n",
       "      <td>NOUN</td>\n",
       "      <td>0</td>\n",
       "      <td>14308</td>\n",
       "    </tr>\n",
       "    <tr>\n",
       "      <th>55</th>\n",
       "      <td>ADP</td>\n",
       "      <td>2</td>\n",
       "      <td>NOUN</td>\n",
       "      <td>0</td>\n",
       "      <td>PUNCT</td>\n",
       "      <td>0</td>\n",
       "      <td>13452</td>\n",
       "    </tr>\n",
       "    <tr>\n",
       "      <th>397</th>\n",
       "      <td>VERB</td>\n",
       "      <td>0</td>\n",
       "      <td>ADJ</td>\n",
       "      <td>3</td>\n",
       "      <td>NOUN</td>\n",
       "      <td>0</td>\n",
       "      <td>9059</td>\n",
       "    </tr>\n",
       "    <tr>\n",
       "      <th>180</th>\n",
       "      <td>DET</td>\n",
       "      <td>2</td>\n",
       "      <td>NOUN</td>\n",
       "      <td>0</td>\n",
       "      <td>PUNCT</td>\n",
       "      <td>0</td>\n",
       "      <td>7049</td>\n",
       "    </tr>\n",
       "  </tbody>\n",
       "</table>\n",
       "</div>"
      ],
      "text/plain": [
       "     POS1  #host1  POS2  #host2   POS3  #host3  total_entries\n",
       "42    ADP       0   ADJ       3   NOUN       0          15168\n",
       "225  NOUN       0   ADJ       3   NOUN       0          14308\n",
       "55    ADP       2  NOUN       0  PUNCT       0          13452\n",
       "397  VERB       0   ADJ       3   NOUN       0           9059\n",
       "180   DET       2  NOUN       0  PUNCT       0           7049"
      ]
     },
     "execution_count": 170,
     "metadata": {},
     "output_type": "execute_result"
    }
   ],
   "source": [
    "df_3.sort_values(by=\"total_entries\", ascending=False).head()"
   ]
  },
  {
   "cell_type": "code",
   "execution_count": 171,
   "metadata": {},
   "outputs": [],
   "source": [
    "df_6 = pd.read_csv(f\"./outcome files/dev_train_test/all_cool_6_grouped.csv\", sep=\",\", low_memory=False)"
   ]
  },
  {
   "cell_type": "code",
   "execution_count": 180,
   "metadata": {
    "scrolled": false
   },
   "outputs": [
    {
     "data": {
      "text/html": [
       "<div>\n",
       "<style scoped>\n",
       "    .dataframe tbody tr th:only-of-type {\n",
       "        vertical-align: middle;\n",
       "    }\n",
       "\n",
       "    .dataframe tbody tr th {\n",
       "        vertical-align: top;\n",
       "    }\n",
       "\n",
       "    .dataframe thead th {\n",
       "        text-align: right;\n",
       "    }\n",
       "</style>\n",
       "<table border=\"1\" class=\"dataframe\">\n",
       "  <thead>\n",
       "    <tr style=\"text-align: right;\">\n",
       "      <th></th>\n",
       "      <th>POS1</th>\n",
       "      <th>#host1</th>\n",
       "      <th>POS2</th>\n",
       "      <th>#host2</th>\n",
       "      <th>POS3</th>\n",
       "      <th>#host3</th>\n",
       "      <th>POS4</th>\n",
       "      <th>#host4</th>\n",
       "      <th>POS5</th>\n",
       "      <th>#host5</th>\n",
       "      <th>POS6</th>\n",
       "      <th>#host6</th>\n",
       "      <th>total_entries</th>\n",
       "    </tr>\n",
       "  </thead>\n",
       "  <tbody>\n",
       "    <tr>\n",
       "      <th>65244</th>\n",
       "      <td>NOUN</td>\n",
       "      <td>0</td>\n",
       "      <td>PUNCT</td>\n",
       "      <td>0</td>\n",
       "      <td>NOUN</td>\n",
       "      <td>0</td>\n",
       "      <td>PUNCT</td>\n",
       "      <td>5</td>\n",
       "      <td>NOUN</td>\n",
       "      <td>0</td>\n",
       "      <td>PUNCT</td>\n",
       "      <td>0</td>\n",
       "      <td>878</td>\n",
       "    </tr>\n",
       "    <tr>\n",
       "      <th>102563</th>\n",
       "      <td>PUNCT</td>\n",
       "      <td>0</td>\n",
       "      <td>NOUN</td>\n",
       "      <td>0</td>\n",
       "      <td>PUNCT</td>\n",
       "      <td>4</td>\n",
       "      <td>NOUN</td>\n",
       "      <td>0</td>\n",
       "      <td>PUNCT</td>\n",
       "      <td>6</td>\n",
       "      <td>NOUN</td>\n",
       "      <td>0</td>\n",
       "      <td>469</td>\n",
       "    </tr>\n",
       "    <tr>\n",
       "      <th>65815</th>\n",
       "      <td>NOUN</td>\n",
       "      <td>0</td>\n",
       "      <td>PUNCT</td>\n",
       "      <td>0</td>\n",
       "      <td>PRON</td>\n",
       "      <td>0</td>\n",
       "      <td>VERB</td>\n",
       "      <td>0</td>\n",
       "      <td>ADP</td>\n",
       "      <td>6</td>\n",
       "      <td>NOUN</td>\n",
       "      <td>0</td>\n",
       "      <td>256</td>\n",
       "    </tr>\n",
       "    <tr>\n",
       "      <th>92912</th>\n",
       "      <td>PROPN</td>\n",
       "      <td>0</td>\n",
       "      <td>PUNCT</td>\n",
       "      <td>0</td>\n",
       "      <td>PROPN</td>\n",
       "      <td>0</td>\n",
       "      <td>PUNCT</td>\n",
       "      <td>5</td>\n",
       "      <td>PROPN</td>\n",
       "      <td>0</td>\n",
       "      <td>PUNCT</td>\n",
       "      <td>0</td>\n",
       "      <td>252</td>\n",
       "    </tr>\n",
       "    <tr>\n",
       "      <th>52876</th>\n",
       "      <td>NOUN</td>\n",
       "      <td>0</td>\n",
       "      <td>ADP</td>\n",
       "      <td>5</td>\n",
       "      <td>ADJ</td>\n",
       "      <td>0</td>\n",
       "      <td>ADJ</td>\n",
       "      <td>0</td>\n",
       "      <td>NOUN</td>\n",
       "      <td>0</td>\n",
       "      <td>PUNCT</td>\n",
       "      <td>0</td>\n",
       "      <td>249</td>\n",
       "    </tr>\n",
       "  </tbody>\n",
       "</table>\n",
       "</div>"
      ],
      "text/plain": [
       "         POS1  #host1   POS2  #host2   POS3  #host3   POS4  #host4   POS5  \\\n",
       "65244    NOUN       0  PUNCT       0   NOUN       0  PUNCT       5   NOUN   \n",
       "102563  PUNCT       0   NOUN       0  PUNCT       4   NOUN       0  PUNCT   \n",
       "65815    NOUN       0  PUNCT       0   PRON       0   VERB       0    ADP   \n",
       "92912   PROPN       0  PUNCT       0  PROPN       0  PUNCT       5  PROPN   \n",
       "52876    NOUN       0    ADP       5    ADJ       0    ADJ       0   NOUN   \n",
       "\n",
       "        #host5   POS6  #host6  total_entries  \n",
       "65244        0  PUNCT       0            878  \n",
       "102563       6   NOUN       0            469  \n",
       "65815        6   NOUN       0            256  \n",
       "92912        0  PUNCT       0            252  \n",
       "52876        0  PUNCT       0            249  "
      ]
     },
     "execution_count": 180,
     "metadata": {},
     "output_type": "execute_result"
    }
   ],
   "source": [
    "df_6.sort_values(by=\"total_entries\", ascending=False).head()"
   ]
  },
  {
   "cell_type": "markdown",
   "metadata": {},
   "source": [
    "## 4.2. Без test"
   ]
  },
  {
   "cell_type": "code",
   "execution_count": 174,
   "metadata": {},
   "outputs": [],
   "source": [
    "df_3 = pd.read_csv(f\"./outcome files/dev_train/all_cool_3_grouped.csv\", sep=\",\", low_memory=False)"
   ]
  },
  {
   "cell_type": "code",
   "execution_count": 175,
   "metadata": {},
   "outputs": [
    {
     "data": {
      "text/html": [
       "<div>\n",
       "<style scoped>\n",
       "    .dataframe tbody tr th:only-of-type {\n",
       "        vertical-align: middle;\n",
       "    }\n",
       "\n",
       "    .dataframe tbody tr th {\n",
       "        vertical-align: top;\n",
       "    }\n",
       "\n",
       "    .dataframe thead th {\n",
       "        text-align: right;\n",
       "    }\n",
       "</style>\n",
       "<table border=\"1\" class=\"dataframe\">\n",
       "  <thead>\n",
       "    <tr style=\"text-align: right;\">\n",
       "      <th></th>\n",
       "      <th>POS1</th>\n",
       "      <th>#host1</th>\n",
       "      <th>POS2</th>\n",
       "      <th>#host2</th>\n",
       "      <th>POS3</th>\n",
       "      <th>#host3</th>\n",
       "      <th>total_entries</th>\n",
       "    </tr>\n",
       "  </thead>\n",
       "  <tbody>\n",
       "    <tr>\n",
       "      <th>40</th>\n",
       "      <td>ADP</td>\n",
       "      <td>0</td>\n",
       "      <td>ADJ</td>\n",
       "      <td>3</td>\n",
       "      <td>NOUN</td>\n",
       "      <td>0</td>\n",
       "      <td>13557</td>\n",
       "    </tr>\n",
       "    <tr>\n",
       "      <th>224</th>\n",
       "      <td>NOUN</td>\n",
       "      <td>0</td>\n",
       "      <td>ADJ</td>\n",
       "      <td>3</td>\n",
       "      <td>NOUN</td>\n",
       "      <td>0</td>\n",
       "      <td>12955</td>\n",
       "    </tr>\n",
       "    <tr>\n",
       "      <th>403</th>\n",
       "      <td>VERB</td>\n",
       "      <td>0</td>\n",
       "      <td>ADJ</td>\n",
       "      <td>3</td>\n",
       "      <td>NOUN</td>\n",
       "      <td>0</td>\n",
       "      <td>8129</td>\n",
       "    </tr>\n",
       "    <tr>\n",
       "      <th>179</th>\n",
       "      <td>DET</td>\n",
       "      <td>2</td>\n",
       "      <td>NOUN</td>\n",
       "      <td>0</td>\n",
       "      <td>PUNCT</td>\n",
       "      <td>0</td>\n",
       "      <td>6377</td>\n",
       "    </tr>\n",
       "    <tr>\n",
       "      <th>14</th>\n",
       "      <td>ADJ</td>\n",
       "      <td>0</td>\n",
       "      <td>ADJ</td>\n",
       "      <td>3</td>\n",
       "      <td>NOUN</td>\n",
       "      <td>0</td>\n",
       "      <td>6242</td>\n",
       "    </tr>\n",
       "  </tbody>\n",
       "</table>\n",
       "</div>"
      ],
      "text/plain": [
       "     POS1  #host1  POS2  #host2   POS3  #host3  total_entries\n",
       "40    ADP       0   ADJ       3   NOUN       0          13557\n",
       "224  NOUN       0   ADJ       3   NOUN       0          12955\n",
       "403  VERB       0   ADJ       3   NOUN       0           8129\n",
       "179   DET       2  NOUN       0  PUNCT       0           6377\n",
       "14    ADJ       0   ADJ       3   NOUN       0           6242"
      ]
     },
     "execution_count": 175,
     "metadata": {},
     "output_type": "execute_result"
    }
   ],
   "source": [
    "df_3.sort_values(by=\"total_entries\", ascending=False).head()"
   ]
  },
  {
   "cell_type": "code",
   "execution_count": 176,
   "metadata": {},
   "outputs": [],
   "source": [
    "df_6 = pd.read_csv(f\"./outcome files/dev_train/all_cool_6_grouped.csv\", sep=\",\", low_memory=False)"
   ]
  },
  {
   "cell_type": "code",
   "execution_count": 179,
   "metadata": {
    "scrolled": false
   },
   "outputs": [
    {
     "data": {
      "text/html": [
       "<div>\n",
       "<style scoped>\n",
       "    .dataframe tbody tr th:only-of-type {\n",
       "        vertical-align: middle;\n",
       "    }\n",
       "\n",
       "    .dataframe tbody tr th {\n",
       "        vertical-align: top;\n",
       "    }\n",
       "\n",
       "    .dataframe thead th {\n",
       "        text-align: right;\n",
       "    }\n",
       "</style>\n",
       "<table border=\"1\" class=\"dataframe\">\n",
       "  <thead>\n",
       "    <tr style=\"text-align: right;\">\n",
       "      <th></th>\n",
       "      <th>POS1</th>\n",
       "      <th>#host1</th>\n",
       "      <th>POS2</th>\n",
       "      <th>#host2</th>\n",
       "      <th>POS3</th>\n",
       "      <th>#host3</th>\n",
       "      <th>POS4</th>\n",
       "      <th>#host4</th>\n",
       "      <th>POS5</th>\n",
       "      <th>#host5</th>\n",
       "      <th>POS6</th>\n",
       "      <th>#host6</th>\n",
       "      <th>total_entries</th>\n",
       "    </tr>\n",
       "  </thead>\n",
       "  <tbody>\n",
       "    <tr>\n",
       "      <th>65244</th>\n",
       "      <td>NOUN</td>\n",
       "      <td>0</td>\n",
       "      <td>PUNCT</td>\n",
       "      <td>0</td>\n",
       "      <td>NOUN</td>\n",
       "      <td>0</td>\n",
       "      <td>PUNCT</td>\n",
       "      <td>5</td>\n",
       "      <td>NOUN</td>\n",
       "      <td>0</td>\n",
       "      <td>PUNCT</td>\n",
       "      <td>0</td>\n",
       "      <td>878</td>\n",
       "    </tr>\n",
       "    <tr>\n",
       "      <th>102563</th>\n",
       "      <td>PUNCT</td>\n",
       "      <td>0</td>\n",
       "      <td>NOUN</td>\n",
       "      <td>0</td>\n",
       "      <td>PUNCT</td>\n",
       "      <td>4</td>\n",
       "      <td>NOUN</td>\n",
       "      <td>0</td>\n",
       "      <td>PUNCT</td>\n",
       "      <td>6</td>\n",
       "      <td>NOUN</td>\n",
       "      <td>0</td>\n",
       "      <td>469</td>\n",
       "    </tr>\n",
       "    <tr>\n",
       "      <th>65815</th>\n",
       "      <td>NOUN</td>\n",
       "      <td>0</td>\n",
       "      <td>PUNCT</td>\n",
       "      <td>0</td>\n",
       "      <td>PRON</td>\n",
       "      <td>0</td>\n",
       "      <td>VERB</td>\n",
       "      <td>0</td>\n",
       "      <td>ADP</td>\n",
       "      <td>6</td>\n",
       "      <td>NOUN</td>\n",
       "      <td>0</td>\n",
       "      <td>256</td>\n",
       "    </tr>\n",
       "    <tr>\n",
       "      <th>92912</th>\n",
       "      <td>PROPN</td>\n",
       "      <td>0</td>\n",
       "      <td>PUNCT</td>\n",
       "      <td>0</td>\n",
       "      <td>PROPN</td>\n",
       "      <td>0</td>\n",
       "      <td>PUNCT</td>\n",
       "      <td>5</td>\n",
       "      <td>PROPN</td>\n",
       "      <td>0</td>\n",
       "      <td>PUNCT</td>\n",
       "      <td>0</td>\n",
       "      <td>252</td>\n",
       "    </tr>\n",
       "    <tr>\n",
       "      <th>52876</th>\n",
       "      <td>NOUN</td>\n",
       "      <td>0</td>\n",
       "      <td>ADP</td>\n",
       "      <td>5</td>\n",
       "      <td>ADJ</td>\n",
       "      <td>0</td>\n",
       "      <td>ADJ</td>\n",
       "      <td>0</td>\n",
       "      <td>NOUN</td>\n",
       "      <td>0</td>\n",
       "      <td>PUNCT</td>\n",
       "      <td>0</td>\n",
       "      <td>249</td>\n",
       "    </tr>\n",
       "  </tbody>\n",
       "</table>\n",
       "</div>"
      ],
      "text/plain": [
       "         POS1  #host1   POS2  #host2   POS3  #host3   POS4  #host4   POS5  \\\n",
       "65244    NOUN       0  PUNCT       0   NOUN       0  PUNCT       5   NOUN   \n",
       "102563  PUNCT       0   NOUN       0  PUNCT       4   NOUN       0  PUNCT   \n",
       "65815    NOUN       0  PUNCT       0   PRON       0   VERB       0    ADP   \n",
       "92912   PROPN       0  PUNCT       0  PROPN       0  PUNCT       5  PROPN   \n",
       "52876    NOUN       0    ADP       5    ADJ       0    ADJ       0   NOUN   \n",
       "\n",
       "        #host5   POS6  #host6  total_entries  \n",
       "65244        0  PUNCT       0            878  \n",
       "102563       6   NOUN       0            469  \n",
       "65815        6   NOUN       0            256  \n",
       "92912        0  PUNCT       0            252  \n",
       "52876        0  PUNCT       0            249  "
      ]
     },
     "execution_count": 179,
     "metadata": {},
     "output_type": "execute_result"
    }
   ],
   "source": [
    "df_6.sort_values(by=\"total_entries\", ascending=False).head()"
   ]
  },
  {
   "cell_type": "code",
   "execution_count": null,
   "metadata": {},
   "outputs": [],
   "source": []
  }
 ],
 "metadata": {
  "kernelspec": {
   "display_name": "Python 3",
   "language": "python",
   "name": "python3"
  },
  "language_info": {
   "codemirror_mode": {
    "name": "ipython",
    "version": 3
   },
   "file_extension": ".py",
   "mimetype": "text/x-python",
   "name": "python",
   "nbconvert_exporter": "python",
   "pygments_lexer": "ipython3",
   "version": "3.8.0"
  }
 },
 "nbformat": 4,
 "nbformat_minor": 4
}
